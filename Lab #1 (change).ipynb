{
 "cells": [
  {
   "cell_type": "markdown",
   "metadata": {},
   "source": [
    "# Big Data, Big Money "
   ]
  },
  {
   "cell_type": "markdown",
   "metadata": {},
   "source": [
    "## Abstract"
   ]
  },
  {
   "cell_type": "markdown",
   "metadata": {},
   "source": [
    "Welcome to Rihans first lab.\n",
    "I am going to be looking at data on Hourly Wage in Seattle.       "
   ]
  },
  {
   "cell_type": "markdown",
   "metadata": {},
   "source": [
    "We are looking at the wage per hour in Seattle City Utilities. We found the data from Seattles data website. "
   ]
  },
  {
   "cell_type": "markdown",
   "metadata": {},
   "source": [
    "Some questions I'm looking to answer: \n",
    "* What job pays the most money in Seattle Utilities?\n",
    "* What job pays the least money in Seattle Utilities?\n",
    "* What is the youngest age of someone who works in Seattle Utilities?\n",
    "* What is the oldest age of someone who works in Seattle Utilities?"
   ]
  },
  {
   "cell_type": "markdown",
   "metadata": {},
   "source": [
    "## Dataset Preparation"
   ]
  },
  {
   "cell_type": "markdown",
   "metadata": {},
   "source": [
    "The dataset is from Seattle City Gov (https://data.seattle.gov/City-Business/City-of-Seattle-Staff-Demographics/5avq-r9hj). The dataset shows all current City of Seattle Employees. It was made in February and was last updated on August 30th, 2019. It is updated monthly and includes data on about 14,200 employees. The data set has seven columns that include race, sex, department, age, hourly rate ect. I will look at hourly wage and age to see if older people are paid more."
   ]
  },
  {
   "cell_type": "markdown",
   "metadata": {},
   "source": [
    "This is code that opens the file and calls it demo data. "
   ]
  },
  {
   "cell_type": "code",
   "execution_count": 40,
   "metadata": {},
   "outputs": [
    {
     "name": "stdout",
     "output_type": "stream",
     "text": [
      "['Race/Ethnicity,Sex,Department,Age,Hourly Rate,Regular/Temporary,Employee Status\\n', 'Hispanic or Latino,M,Municipal Court,57,29.75,R,A\\n', 'Hispanic or Latino,F,Municipal Court,39,27.18,R,A\\n', 'Hispanic or Latino,M,Police Department,52,59.75,R,A\\n', 'Hispanic or Latino,M,Fire Department,30,38.28,R,A\\n']\n"
     ]
    }
   ],
   "source": [
    "#open the file\n",
    "data_file = open(\"City_of_Seattle_Staff_Demographics.csv\", \"r\");\n",
    "\n",
    "#create an empty list to store the data from the csv file\n",
    "demo_data = [];\n",
    "\n",
    "#put all lines from the file into a list\n",
    "for row in data_file:\n",
    "    demo_data.append(row);\n",
    "    \n",
    "#close the file. It's the courteous and clean thing to do\n",
    "data_file.close();\n",
    "\n",
    "# show the first five items in the list. Notice that they are all strings\n",
    "# the \\n part of the string means \"newline\" - its the symbol that represents the end of a line\n",
    "print(demo_data[:5]);"
   ]
  },
  {
   "cell_type": "markdown",
   "metadata": {},
   "source": [
    "Now I am going to pull out two columns, age and wage. Age is an integer telling us how old someone is and wage is the dollar amount someone makes. I am interested in these two columns because I am looking at how age may or may not affect wage. "
   ]
  },
  {
   "cell_type": "code",
   "execution_count": 44,
   "metadata": {},
   "outputs": [
    {
     "name": "stdout",
     "output_type": "stream",
     "text": [
      "minimum age:\n",
      "14\n",
      "maximum age:\n",
      "92\n",
      "maximum wage:\n",
      "162.8353\n",
      "minimum wage:\n",
      "5.53\n"
     ]
    }
   ],
   "source": [
    "#remove the first element (column header)\n",
    "# the header is useful for telling us what the columns mean, \n",
    "# but you don't want to include it in your mathematical calculations\n",
    "del demo_data[0];\n",
    "\n",
    "# create two empty lists - one for age and one for wage demo data\n",
    "# we want to make a list of just the age data and just the wage data\n",
    "age = [];\n",
    "wage = [];  \n",
    "\n",
    "# loop (go through every row one by one) through the original demo_list\n",
    "for item in range(len(demo_data)):\n",
    "    \n",
    "    # this line is a bit confusing, but what it is doing is splitting out each comma separated item \n",
    "    # from a row and turning it into a list \n",
    "    # for example, this line of code turns he single string '57, 29.75\\n' \n",
    "    # into two separate strings '57' and '29.75' \n",
    "    # After being split, the two separate strings are then stored in another list called bridge_row\n",
    "    demo_row = demo_data[item].split(\",\")\n",
    "    \n",
    "    #now that we've split the row into its two parts, we can pick and choose \n",
    "    # add the second to specific lists for age and wage\n",
    "    age.append(int(demo_row[3]))\n",
    "    wage.append(float(demo_row[4]))\n",
    "\n",
    "agemin = min(age)\n",
    "\n",
    "agemax = max(age)\n",
    "\n",
    "wagemax = max(wage)\n",
    "\n",
    "wagemin = min(wage)\n",
    "\n",
    "\n",
    "\n",
    "\n",
    "print('minimum age:')\n",
    "print(agemin)\n",
    "print(\"maximum age:\")\n",
    "print(agemax)\n",
    "print(\"maximum wage:\")\n",
    "print (wagemax)\n",
    "print (\"minimum wage:\")\n",
    "print (wagemin)"
   ]
  },
  {
   "cell_type": "markdown",
   "metadata": {},
   "source": [
    "Minimum age is 14."
   ]
  },
  {
   "cell_type": "markdown",
   "metadata": {},
   "source": [
    "Maximum age is 92."
   ]
  },
  {
   "cell_type": "markdown",
   "metadata": {},
   "source": [
    "Maximum wage is 162.84 "
   ]
  },
  {
   "cell_type": "markdown",
   "metadata": {},
   "source": [
    "Minimum wage is 5.53"
   ]
  },
  {
   "cell_type": "markdown",
   "metadata": {},
   "source": [
    "Now I am going to find the average of age and wage from the data set."
   ]
  },
  {
   "cell_type": "markdown",
   "metadata": {},
   "source": [
    "## Data Modeling"
   ]
  },
  {
   "cell_type": "code",
   "execution_count": 42,
   "metadata": {},
   "outputs": [
    {
     "name": "stdout",
     "output_type": "stream",
     "text": [
      "Nbr of age is  14194\n",
      "Total sum of age is  632115\n",
      "Average of age is  44.53395801042694\n",
      "Mean (average) of values age is 44.53395801042694\n"
     ]
    }
   ],
   "source": [
    "# to count how many items are in the list, use the function len\n",
    "\n",
    "someNbrs = age\n",
    "count = len(someNbrs)\n",
    "print(\"Nbr of age is \", count)\n",
    "\n",
    "# to add up all the items in the list, use the function sum\n",
    "total = sum(someNbrs)\n",
    "print(\"Total sum of age is \", total)\n",
    "\n",
    "# you can then use these two values to calculate the average (also called the mean)\n",
    "avg=total/count\n",
    "print(\"Average of age is \", avg)\n",
    "\n",
    "# or, use the function statistics.mean to do the calculations\n",
    "# you must include the import statistics line first\n",
    "import statistics\n",
    "another_mean = statistics.mean(someNbrs)\n",
    "print(\"Mean (average) of values age is\", another_mean)"
   ]
  },
  {
   "cell_type": "code",
   "execution_count": 43,
   "metadata": {},
   "outputs": [
    {
     "name": "stdout",
     "output_type": "stream",
     "text": [
      "Nbr of wage is  14194\n",
      "Total sum of wage is  568240.0329000067\n",
      "Average of wage is  40.03381942370063\n",
      "Mean (average) of wage is 40.03381942370015\n"
     ]
    }
   ],
   "source": [
    "# to count how many items are in the list, use the function len\n",
    "\n",
    "someNbrs = wage\n",
    "count = len(someNbrs)\n",
    "print(\"Nbr of wage is \", count)\n",
    "\n",
    "# to add up all the items in the list, use the function sum\n",
    "total = sum(someNbrs)\n",
    "print(\"Total sum of wage is \", total)\n",
    "\n",
    "# you can then use these two values to calculate the average (also called the mean)\n",
    "avg=total/count\n",
    "print(\"Average of wage is \", avg)\n",
    "\n",
    "# or, use the function statistics.mean to do the calculations\n",
    "# you must include the import statistics line first\n",
    "import statistics\n",
    "another_mean = statistics.mean(someNbrs)\n",
    "print(\"Mean (average) of wage is\", another_mean)"
   ]
  },
  {
   "cell_type": "markdown",
   "metadata": {},
   "source": [
    "## Data Analysis and Conclusions"
   ]
  },
  {
   "cell_type": "markdown",
   "metadata": {},
   "source": [
    "I found that the oldest person working in Seattle City Utitilies is 92 years old, I am wondering what they could possibly be doing at that age and how much money they are making. The youngest person is 14 years old, and I am wondering if they are in school while working. The minimum wage is 5.53 dollars, I am wondering what job pays so little. The maximum wage is 162.84 dollars, and I am wondering how old the person making this much money is and what job they currently have. \n",
    "\n",
    "Further Exploration: \n",
    "* Is there a wage gap between men and women?\n",
    "* Is there a wage gap between people of color and white people?\n",
    "* What job(s) pay the most?\n",
    "* Is the pay suitable for the job?\n",
    "* How many people are making more than 20 dollars?\n",
    "* What job is the most dangerous and how much do those people make?"
   ]
  },
  {
   "cell_type": "markdown",
   "metadata": {},
   "source": [
    "## Awknowledgements"
   ]
  },
  {
   "cell_type": "markdown",
   "metadata": {},
   "source": [
    "I have to awknowledgement! First, Ziah helped me figure out how to put the maximum and minimum age, once she helped me with that I was able to figure out the minimum and maximum wage. I was also able to figure out the average of both wage and age. Ms. Scoyners gave me her code to use and helped me set up my first notebook! Because of her help I was actually able to do the assignment. "
   ]
  },
  {
   "cell_type": "code",
   "execution_count": null,
   "metadata": {},
   "outputs": [],
   "source": []
  }
 ],
 "metadata": {
  "kernelspec": {
   "display_name": "Python 3",
   "language": "python",
   "name": "python3"
  },
  "language_info": {
   "codemirror_mode": {
    "name": "ipython",
    "version": 3
   },
   "file_extension": ".py",
   "mimetype": "text/x-python",
   "name": "python",
   "nbconvert_exporter": "python",
   "pygments_lexer": "ipython3",
   "version": "3.7.3"
  }
 },
 "nbformat": 4,
 "nbformat_minor": 2
}
